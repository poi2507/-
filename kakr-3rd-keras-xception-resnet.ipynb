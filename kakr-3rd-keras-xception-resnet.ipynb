{
 "cells": [
  {
   "cell_type": "markdown",
   "metadata": {
    "_cell_guid": "b1076dfc-b9ad-4769-8c92-a6c4dae69d19",
    "_uuid": "8f2839f25d086af736a60e9eeb907d3b93b6e0e5"
   },
   "source": [
    "### **Car Model Classification**\n",
    "차 종(모델)의 분류는 일반적인 이미지 분류 예측 보다는 난이도가 있습니다. 예를 들어, 우리가 강아지와 사람을 분류 예측 해야 한다고 가정해봅시다. 사람의 이미지와 강아지의 이미지를 서로 비교해서 보면, 사람에게 드러나는 특징과 강아지에게 드러나는 특징은 비교적 차이가 존재합니다.\n",
    "\n",
    "하지만, 자동차라는 하나의 카테고리의 이미지들 가운데, 심지어는 브랜드마저 같은 차량이 존재하는 이미지들 사이에서 차량의 모델을 분류하는 작업은 강아지와 사람을 구분하는 것 처럼 간단히 할 수 있는 문제가 아닙니다.\n",
    "\n",
    "### **Competition**\n",
    "이번 컴페티션에서는, 주어진 자동차 이미지를 총 196개의 클래스로 분류 예측하는 것이 목표입니다.  \n",
    "sample_submission에 매핑된 테스트 이미지의 클래스를 예측하여 제출하시면 됩니다.\n",
    "\n",
    "\n",
    "\n",
    "#### Data Description에 있는 파일 세부 정보입니다.\n",
    "* **train.csv** - Train 셋의 이미지 파일명, 바운딩박스 좌표, 차종정보\n",
    "* **test.csv** - Test 셋의 이미지 파일명, 바운딩박스 좌표, 차종정보\n",
    "* **submission.csv** - Test셋과 대응되는 제출 파일\n",
    "* **class.csv** - 데이터 셋의 class 컬럼과 대응되는 차종의 레이블\n",
    "* **train** - Train 이미지 파일\n",
    "* **test** - Test 이미지 파일"
   ]
  },
  {
   "cell_type": "code",
   "execution_count": 1,
   "metadata": {},
   "outputs": [],
   "source": [
    "\n",
    "import numpy as np # linear algebra\n",
    "import pandas as pd # data processing, CSV file I/O (e.g. pd.read_csv)\n",
    "import os"
   ]
  },
  {
   "cell_type": "markdown",
   "metadata": {},
   "source": [
    "Kernel 내용을 요약\n",
    "1. Xception 사전 훈련 모델을 사용\n",
    "2. resent 사전 훈련 모델을 사용\n",
    "2. StratifiedKFold로 3 Fold로 나눠서 각 모델 훈련 및 검증 수행\n",
    "3. 각 Fold 마다 val_loss가 가작 작게 나온 것에 대해서 Weight 파일로 저장\n",
    "4. 훈련에서 나온 6개의 Weight로 예측 진행\n",
    "5. 6개의 예측결과 평균(앙상블)"
   ]
  },
  {
   "cell_type": "code",
   "execution_count": null,
   "metadata": {
    "_cell_guid": "79c7e3d0-c299-4dcb-8224-4455121ee9b0",
    "_uuid": "d629ff2d2480ee46fbb7e2d37f6b5fab8052498a",
    "scrolled": true
   },
   "outputs": [],
   "source": [
    "import warnings\n",
    "import seaborn as sns\n",
    "import matplotlib.pylab as plt\n",
    "import PIL\n",
    "from sklearn.model_selection import StratifiedKFold, KFold\n",
    "\n",
    "from keras import backend as K\n",
    "from keras.preprocessing.image import ImageDataGenerator\n",
    "\n",
    "from keras.applications import Xception,ResNet50\n",
    "\n",
    "from keras.callbacks import EarlyStopping, ReduceLROnPlateau, ModelCheckpoint\n",
    "from keras import layers, models, optimizers\n",
    "\n",
    "warnings.filterwarnings('ignore')\n",
    "K.image_data_format()\n",
    "\n",
    "# 변수 파라미터 사전 설정\n",
    "image_size = 299\n",
    "batch_size = 32\n",
    "epochs = 100\n",
    "k_fold=3\n",
    "\n",
    "\n",
    "DATA_PATH = '../input'\n",
    "\n",
    "train_iamge_path = os.path.join('../input/2019-3rd-ml-month-with-kakr/train')\n",
    "test_iamge_path = os.path.join('../input/2019-3rd-ml-month-with-kakr/test')\n",
    "\n",
    "df_train = pd.read_csv(os.path.join('../input/2019-3rd-ml-month-with-kakr/train.csv'))\n",
    "df_test = pd.read_csv(os.path.join('../input/2019-3rd-ml-month-with-kakr/test.csv'))\n",
    "df_class = pd.read_csv(os.path.join('../input/2019-3rd-ml-month-with-kakr/class.csv'))\n",
    "\n",
    "df_train.head()\n",
    "\n",
    "plt.figure(figsize=(12, 6))\n",
    "sns.countplot(df_train[\"class\"], order=df_train[\"class\"].value_counts(ascending=True).index)\n",
    "plt.title(\"Number of data per each class\")\n",
    "plt.show()"
   ]
  },
  {
   "cell_type": "markdown",
   "metadata": {},
   "source": [
    "### **Class Distribution**  \n",
    "분류 문제에서 가장 먼저 의심해봐야 할 부분이 바로 Target Class의 분포입니다. 학습에 사용해야 하는 Train Set의 타겟 분포를 확인해서 밸런스가 어느정도인지 체크해야 합니다.\n",
    "\n",
    "119번 유형이 84개로 제일 많고,\n",
    "\n",
    "136번 유형이 30개로 가장 적음.\n",
    "\n",
    "각 차종별 평균 분포개수는 51개임."
   ]
  },
  {
   "cell_type": "code",
   "execution_count": null,
   "metadata": {
    "_cell_guid": "79c7e3d0-c299-4dcb-8224-4455121ee9b0",
    "_uuid": "d629ff2d2480ee46fbb7e2d37f6b5fab8052498a"
   },
   "outputs": [],
   "source": [
    "def crop_boxing_image(image_name,margin = -4, size=(image_size,image_size)):\n",
    "    if image_name.split('_')[0] =='train':\n",
    "        PATH = train_iamge_path\n",
    "        data = df_train\n",
    "    else:\n",
    "        PATH = test_iamge_path\n",
    "        data = df_test\n",
    "    img = PIL.Image.open(os.path.join(PATH,image_name))\n",
    "    pos = data.loc[data[\"img_file\"]==image_name,['bbox_x1','bbox_y1','bbox_x2','bbox_y2']].values.reshape(-1)\n",
    "    \n",
    "    width ,height = img.size\n",
    "    x1=max(0,pos[0]-margin)\n",
    "    y1=max(0,pos[1]-margin)\n",
    "    x2=max(pos[2]+margin,width)       \n",
    "    y2=max(pos[3]+margin,height)\n",
    "    \n",
    "    return img.crop((x1,y1,x2,y2)).resize(size)\n",
    "\n",
    "TRAIN_CROPPED_PATH = '../cropped_train'\n",
    "TEST_CROPPED_PATH = '../cropped_test'"
   ]
  },
  {
   "cell_type": "markdown",
   "metadata": {},
   "source": [
    "### **Bounding Box**\n",
    "\n",
    "바운딩 박스란?  \n",
    "이미지 내부에서 특정 Object를 박스로 레이블한 좌표를 말하며, 보통 좌측 상단 (x1, y1)과, 우측 하단 (x2, y2) 좌표가 주어져서   \n",
    "직사각형 모양의 박스를 그릴 수 있게됩니다. 이때, 좌표는 이미지의 픽셀 좌표입니다."
   ]
  },
  {
   "cell_type": "code",
   "execution_count": null,
   "metadata": {
    "_cell_guid": "79c7e3d0-c299-4dcb-8224-4455121ee9b0",
    "_uuid": "d629ff2d2480ee46fbb7e2d37f6b5fab8052498a"
   },
   "outputs": [],
   "source": [
    "if (os.path.isdir(TRAIN_CROPPED_PATH)==False):\n",
    "    os.mkdir(TRAIN_CROPPED_PATH)\n",
    "if (os.path.isdir(TEST_CROPPED_PATH)==False):\n",
    "    os.mkdir(TEST_CROPPED_PATH)    \n",
    "for i,row in df_train.iterrows():\n",
    "    cropped = crop_boxing_image(row['img_file'])\n",
    "    cropped.save(os.path.join(TRAIN_CROPPED_PATH,row['img_file']))\n",
    "for i,row in df_test.iterrows():\n",
    "    cropped = crop_boxing_image(row['img_file'])\n",
    "    cropped.save(os.path.join(TEST_CROPPED_PATH,row['img_file'])) \n",
    "    \n",
    "df_train['class'] = df_train['class'].astype('str')\n",
    "df_train = df_train[['img_file', 'class']]\n",
    "df_test = df_test[['img_file']]\n",
    "df_test.head()\n",
    "\n",
    "model_path='./'"
   ]
  },
  {
   "cell_type": "code",
   "execution_count": null,
   "metadata": {
    "_cell_guid": "79c7e3d0-c299-4dcb-8224-4455121ee9b0",
    "_uuid": "d629ff2d2480ee46fbb7e2d37f6b5fab8052498a"
   },
   "outputs": [
    {
     "name": "stderr",
     "output_type": "stream",
     "text": [
      "Using TensorFlow backend.\n",
      "/opt/conda/lib/python3.6/site-packages/tensorflow/python/framework/dtypes.py:516: FutureWarning: Passing (type, 1) or '1type' as a synonym of type is deprecated; in a future version of numpy, it will be understood as (type, (1,)) / '(1,)type'.\n",
      "  _np_qint8 = np.dtype([(\"qint8\", np.int8, 1)])\n",
      "/opt/conda/lib/python3.6/site-packages/tensorflow/python/framework/dtypes.py:517: FutureWarning: Passing (type, 1) or '1type' as a synonym of type is deprecated; in a future version of numpy, it will be understood as (type, (1,)) / '(1,)type'.\n",
      "  _np_quint8 = np.dtype([(\"quint8\", np.uint8, 1)])\n",
      "/opt/conda/lib/python3.6/site-packages/tensorflow/python/framework/dtypes.py:518: FutureWarning: Passing (type, 1) or '1type' as a synonym of type is deprecated; in a future version of numpy, it will be understood as (type, (1,)) / '(1,)type'.\n",
      "  _np_qint16 = np.dtype([(\"qint16\", np.int16, 1)])\n",
      "/opt/conda/lib/python3.6/site-packages/tensorflow/python/framework/dtypes.py:519: FutureWarning: Passing (type, 1) or '1type' as a synonym of type is deprecated; in a future version of numpy, it will be understood as (type, (1,)) / '(1,)type'.\n",
      "  _np_quint16 = np.dtype([(\"quint16\", np.uint16, 1)])\n",
      "/opt/conda/lib/python3.6/site-packages/tensorflow/python/framework/dtypes.py:520: FutureWarning: Passing (type, 1) or '1type' as a synonym of type is deprecated; in a future version of numpy, it will be understood as (type, (1,)) / '(1,)type'.\n",
      "  _np_qint32 = np.dtype([(\"qint32\", np.int32, 1)])\n",
      "/opt/conda/lib/python3.6/site-packages/tensorflow/python/framework/dtypes.py:525: FutureWarning: Passing (type, 1) or '1type' as a synonym of type is deprecated; in a future version of numpy, it will be understood as (type, (1,)) / '(1,)type'.\n",
      "  np_resource = np.dtype([(\"resource\", np.ubyte, 1)])\n",
      "/opt/conda/lib/python3.6/site-packages/tensorboard/compat/tensorflow_stub/dtypes.py:541: FutureWarning: Passing (type, 1) or '1type' as a synonym of type is deprecated; in a future version of numpy, it will be understood as (type, (1,)) / '(1,)type'.\n",
      "  _np_qint8 = np.dtype([(\"qint8\", np.int8, 1)])\n",
      "/opt/conda/lib/python3.6/site-packages/tensorboard/compat/tensorflow_stub/dtypes.py:542: FutureWarning: Passing (type, 1) or '1type' as a synonym of type is deprecated; in a future version of numpy, it will be understood as (type, (1,)) / '(1,)type'.\n",
      "  _np_quint8 = np.dtype([(\"quint8\", np.uint8, 1)])\n",
      "/opt/conda/lib/python3.6/site-packages/tensorboard/compat/tensorflow_stub/dtypes.py:543: FutureWarning: Passing (type, 1) or '1type' as a synonym of type is deprecated; in a future version of numpy, it will be understood as (type, (1,)) / '(1,)type'.\n",
      "  _np_qint16 = np.dtype([(\"qint16\", np.int16, 1)])\n",
      "/opt/conda/lib/python3.6/site-packages/tensorboard/compat/tensorflow_stub/dtypes.py:544: FutureWarning: Passing (type, 1) or '1type' as a synonym of type is deprecated; in a future version of numpy, it will be understood as (type, (1,)) / '(1,)type'.\n",
      "  _np_quint16 = np.dtype([(\"quint16\", np.uint16, 1)])\n",
      "/opt/conda/lib/python3.6/site-packages/tensorboard/compat/tensorflow_stub/dtypes.py:545: FutureWarning: Passing (type, 1) or '1type' as a synonym of type is deprecated; in a future version of numpy, it will be understood as (type, (1,)) / '(1,)type'.\n",
      "  _np_qint32 = np.dtype([(\"qint32\", np.int32, 1)])\n",
      "/opt/conda/lib/python3.6/site-packages/tensorboard/compat/tensorflow_stub/dtypes.py:550: FutureWarning: Passing (type, 1) or '1type' as a synonym of type is deprecated; in a future version of numpy, it will be understood as (type, (1,)) / '(1,)type'.\n",
      "  np_resource = np.dtype([(\"resource\", np.ubyte, 1)])\n"
     ]
    },
    {
     "data": {
      "image/png": "[encoded data removed]",
      "text/plain": [
       "<Figure size 1080x432 with 1 Axes>"
      ]
     },
     "metadata": {
      "needs_background": "light"
     },
     "output_type": "display_data"
    }
   ],
   "source": [
    "def get_callback(model_name,patient):\n",
    "    es = EarlyStopping(monitor='val_loss', patience=patient, mode = 'min', verbose= 1)\n",
    "    rr = ReduceLROnPlateau(monitor= 'val_loss', factor=0.5, patience= patient/2,min_lr=0.000001,verbose=1,mode='min')\n",
    "    mc = ModelCheckpoint(filepath=model_name,monitor='val_loss',verbose =1,save_best_only = True,mode = 'min')\n",
    "    \n",
    "    return [es,rr,mc]\n",
    "\n",
    "def get_model_1(model_name_1,image_size):\n",
    "    # base_model = application(weights='imagenet', input_shape=(image_size,image_size,3), include_top=False)\n",
    "    base_model_1 = model_name_1(weights='imagenet', include_top=False, input_shape=(image_size, image_size, 3))\n",
    "    # base_model.trainable = False\n",
    "\n",
    "    model_1 = models.Sequential()\n",
    "    model_1.add(base_model_1)\n",
    "    model_1.add(layers.GlobalAveragePooling2D())\n",
    "    model_1.add(layers.Dense(1024, activation='relu'))\n",
    "    model_1.add(layers.Dropout(0.5))\n",
    "    model_1.add(layers.Dense(196, activation='softmax'))\n",
    "    model_1.summary()\n",
    "\n",
    "    #optimizer = optimizers.SGD(lr=1e-4, decay=1e-6, momentum=0.9, nesterov=True)\n",
    "    optimizer = optimizers.RMSprop(lr=0.0001)\n",
    "    model_1.compile(loss='categorical_crossentropy', optimizer=optimizer, metrics=['acc'])\n",
    "\n",
    "    return model_1\n",
    "\n",
    "train_datagen = ImageDataGenerator(rescale = 1./255, rotation_range=30,width_shift_range=0.2, height_shift_range=0.2, horizontal_flip=True,vertical_flip= False,zoom_range= 0.3, shear_range= 0.3, fill_mode='nearest')\n",
    "valid_datagen = ImageDataGenerator(rescale=1./255)\n",
    "test_datagen = ImageDataGenerator(rescale = 1./255)\n",
    "\n",
    "skf = StratifiedKFold(n_splits=k_fold,random_state=2019)\n",
    "\n",
    "def get_random_eraser(p=0.5, s_l=0.02, s_h=0.4, r_1=0.3, r_2=1/0.3, v_l=0, v_h=255, pixel_level=False):\n",
    "    def eraser(input_img):\n",
    "        img_h, img_w, img_c = input_img.shape\n",
    "        p_1 = np.random.rand()\n",
    "\n",
    "        if p_1 > p:\n",
    "            return input_img\n",
    "\n",
    "        while True:\n",
    "            s = np.random.uniform(s_l, s_h) * img_h * img_w\n",
    "            r = np.random.uniform(r_1, r_2)\n",
    "            w = int(np.sqrt(s / r))\n",
    "            h = int(np.sqrt(s * r))\n",
    "            left = np.random.randint(0, img_w)\n",
    "            top = np.random.randint(0, img_h)\n",
    "\n",
    "            if left + w <= img_w and top + h <= img_h:\n",
    "                break\n",
    "\n",
    "        if pixel_level:\n",
    "            c = np.random.uniform(v_l, v_h, (h, w, img_c))\n",
    "        else:\n",
    "            c = np.random.uniform(v_l, v_h)\n",
    "\n",
    "        input_img[top:top + h, left:left + w, :] = c\n",
    "\n",
    "        return input_img\n",
    "    return eraser"
   ]
  },
  {
   "cell_type": "markdown",
   "metadata": {},
   "source": [
    "# <a id='4'><strong>Model</strong></a>\n",
    "이제 본격적으로 이미지 분류 모델을 만들어 봅시다.  \n",
    "이번 커널에서는 XGboost ,ResNet50 Pretrained Model을 불러와서 사용합니다.<br>\n",
    "모델의 학습은 한번에 다 돌릴경우 시간이 많이 소요되어 **클라우드 환경에서 학습시킨 모델을 load**해 사용한다.\n"
   ]
  },
  {
   "cell_type": "code",
   "execution_count": 1,
   "metadata": {},
   "outputs": [],
   "source": [
    "def get_model(model_name,image_size):\n",
    "    base_model = model_name(weights = 'imagenet', input_shape = (image_size,image_size,3),include_top = False)\n",
    "    model = models.Sequential()\n",
    "    model.add(base_model)\n",
    "    model.add(layers.GlobalAveragePooling2D())\n",
    "    model.add(layers.Dense(1024,activation='relu'))\n",
    "    model.add(layers.Dropout(0.25))\n",
    "    model.add(layers.Dense(1024,activation='relu'))\n",
    "    model.add(layers.Dropout(0.25))\n",
    "    model.add(layers.Dense(196,activation='softmax'))\n",
    "    model.summary()\n",
    "    optimizer = optimizers.RMSprop(lr=0.0001)\n",
    "    model.compile(loss = 'categorical_crossentropy',optimizer = optimizer,metrics = ['acc'] )\n",
    "    return model"
   ]
  },
  {
   "cell_type": "code",
   "execution_count": null,
   "metadata": {},
   "outputs": [],
   "source": [
    "j = 1\n",
    "\n",
    "for (train_index, valid_index) in skf.split( df_train['img_file'],  df_train['class']):\n",
    "    traindf = df_train.iloc[train_index, :].reset_index()\n",
    "    validdf = df_train.iloc[valid_index, :].reset_index()\n",
    "    print(\"=========================================\")\n",
    "    print(\"====== K Fold Validation step => %d/%d =======\" % (j,k_fold))\n",
    "    print(\"=========================================\")\n",
    "    \n",
    "    train_generator = train_datagen.flow_from_dataframe(\n",
    "        dataframe=traindf,\n",
    "        directory=TRAIN_CROPPED_PATH,\n",
    "        x_col='img_file',\n",
    "        y_col='class',\n",
    "        target_size= (image_size, image_size),\n",
    "        color_mode='rgb',\n",
    "        class_mode='categorical',\n",
    "        batch_size=batch_size,\n",
    "        seed=2019,\n",
    "        shuffle=True,\n",
    "        preprocessing_function = get_random_eraser(v_l=0, v_h=255)\n",
    "        )\n",
    "\n",
    "    valid_generator = valid_datagen.flow_from_dataframe(\n",
    "        dataframe=validdf,\n",
    "        directory=TRAIN_CROPPED_PATH,\n",
    "        x_col='img_file',\n",
    "        y_col='class',\n",
    "        target_size= (image_size, image_size),\n",
    "        color_mode='rgb',\n",
    "        class_mode='categorical',\n",
    "        batch_size=batch_size,\n",
    "        seed=2019,\n",
    "        shuffle=True\n",
    "        )"
   ]
  },
  {
   "cell_type": "markdown",
   "metadata": {},
   "source": [
    "### **Generator**\n",
    "\n",
    "자, 제너레이터 입니다. 개인적으로 이미지 프로세싱에서 없어서는 안 될 필수 과정이라고 생각합니다. 정말 2번 3번 설명해도 부족함이 없습니다. 제너레이터가 왜 중요하고, 특히, 이번 컴페티션 혹은 딥러닝 파이프라인에서 어떤 효과가 있는지 잠깐 짚고 넘어가겠습니다.\n",
    "\n",
    "#### **Generator의 이점?**\n",
    "제너레이터는 코랩이나 캐글 커널같은 클라우드 환경 또는 일반적인 로컬 환경에서 정말 유용하게 쓰일 수 있습니다. 그 이유는 보통 이러한 환경은 메모리가 충분하지 않기 때문이죠. 특히나 이미지 처럼 파일하나의 용량이 매우 큰 경우, 한번에 모든 파일을 메모리에 적재하게 되면 상당히 큰 부담이 됩니다. 배치사이즈 단위 만큼 파일을 불러와 학습하고 끝나면 다시 불러와서 학습하는 방법을 반복하기 때문에 전체 학습을 하더라도 메모리를 조금만 사용하게 되는 것입니다."
   ]
  },
  {
   "cell_type": "markdown",
   "metadata": {},
   "source": [
    "### **Keras DataGenerator**\n",
    "지금껏 불편하게 제너레이터를 만들어 사용했다면 케라스에는 정말 편한 제너레이터 함수가 있습니다. 케라스 ImageDataGenerator는 제너레이터의 기능은 물론 제너레이터를 정의하면서 동시에 Data에 원하는 Noise까지 부여할 수 있습니다. 또한 Documentaion을 참고하시면 생각보다 많은 기능이 있으니 이번 기회에 한번 사용해 보시는 것도 좋을 것 같네요.\n"
   ]
  },
  {
   "cell_type": "code",
   "execution_count": null,
   "metadata": {},
   "outputs": [],
   "source": [
    "test_generator = test_datagen.flow_from_dataframe(\n",
    "    dataframe=df_test,\n",
    "    directory=TEST_CROPPED_PATH,\n",
    "    x_col='img_file',\n",
    "    y_col=None,\n",
    "    target_size= (image_size, image_size),\n",
    "    color_mode='rgb',\n",
    "    class_mode=None,\n",
    "    batch_size=batch_size,\n",
    "    shuffle=False\n",
    ")"
   ]
  },
  {
   "cell_type": "code",
   "execution_count": null,
   "metadata": {},
   "outputs": [],
   "source": [
    "model_resnet_names = ['../input/output-11/1_resnet.hdf5','../input/output-11/2_resnet.hdf5','../input/output-11/3_resnet.hdf5']\n",
    "model_xception_names = ['../input/output-11/1_xception.hdf5','../input/output-11/2_xception.hdf5','../input/output-11/3_xception.hdf5']"
   ]
  },
  {
   "cell_type": "code",
   "execution_count": null,
   "metadata": {},
   "outputs": [],
   "source": [
    "resnet_xception_prediction = []\n",
    "for i, name in enumerate(model_xception_names):\n",
    "    model_xception = get_model(Xception, image_size)\n",
    "    model_xception.load_weights(name)\n",
    "    test_generator.reset()\n",
    "    pred = model_xception.predict_generator(\n",
    "        generator=test_generator,\n",
    "        steps = len(df_test)/batch_size,\n",
    "        verbose=1\n",
    "    )\n",
    "    resnet_xception_prediction.append(pred)"
   ]
  },
  {
   "cell_type": "code",
   "execution_count": null,
   "metadata": {},
   "outputs": [],
   "source": [
    "\n",
    "y_pred_xception = np.mean(resnet_xception_prediction, axis=0)\n"
   ]
  },
  {
   "cell_type": "code",
   "execution_count": null,
   "metadata": {},
   "outputs": [],
   "source": [
    "preds_class_indices=np.argmax(y_pred_xception, axis=1)"
   ]
  },
  {
   "cell_type": "code",
   "execution_count": null,
   "metadata": {},
   "outputs": [],
   "source": [
    "labels = (train_generator.class_indices)\n",
    "labels = dict((v,k) for k,v in labels.items())\n",
    "final_pred = [labels[k] for k in preds_class_indices]"
   ]
  },
  {
   "cell_type": "code",
   "execution_count": null,
   "metadata": {},
   "outputs": [],
   "source": [
    "submission = pd.read_csv(('../input/2019-3rd-ml-month-with-kakr/sample_submission.csv'))\n",
    "submission[\"class\"] = final_pred\n"
   ]
  },
  {
   "cell_type": "code",
   "execution_count": null,
   "metadata": {},
   "outputs": [],
   "source": [
    "submission.to_csv(\"submission.csv\", index=False)\n"
   ]
  },
  {
   "cell_type": "code",
   "execution_count": null,
   "metadata": {},
   "outputs": [],
   "source": [
    "submission.head()"
   ]
  }
 ],
 "metadata": {
  "kernelspec": {
   "display_name": "Python 3",
   "language": "python",
   "name": "python3"
  },
  "language_info": {
   "codemirror_mode": {
    "name": "ipython",
    "version": 3
   },
   "file_extension": ".py",
   "mimetype": "text/x-python",
   "name": "python",
   "nbconvert_exporter": "python",
   "pygments_lexer": "ipython3",
   "version": "3.7.6"
  }
 },
 "nbformat": 4,
 "nbformat_minor": 4
}
